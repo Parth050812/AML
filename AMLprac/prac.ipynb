{
 "cells": [
  {
   "cell_type": "code",
   "execution_count": 1,
   "id": "586b49aa",
   "metadata": {},
   "outputs": [
    {
     "name": "stdout",
     "output_type": "stream",
     "text": [
      "Just trying out the github codespace\n"
     ]
    }
   ],
   "source": [
    "print(\"Just trying out the github codespace\")"
   ]
  },
  {
   "cell_type": "code",
   "execution_count": 2,
   "id": "9020cb22",
   "metadata": {},
   "outputs": [
    {
     "name": "stdout",
     "output_type": "stream",
     "text": [
      "Just checking the billing of the Github codespace\n"
     ]
    }
   ],
   "source": [
    "print(\"Just checking the billing of the Github codespace\");"
   ]
  },
  {
   "cell_type": "code",
   "execution_count": 3,
   "id": "fed94d67",
   "metadata": {},
   "outputs": [
    {
     "name": "stdout",
     "output_type": "stream",
     "text": [
      "The sum of a and c is:  100\n"
     ]
    }
   ],
   "source": [
    "a = 10\n",
    "c = 90\n",
    "b = a + c\n",
    "print(\"The sum of a and c is: \", b)"
   ]
  }
 ],
 "metadata": {
  "kernelspec": {
   "display_name": "Python 3",
   "language": "python",
   "name": "python3"
  },
  "language_info": {
   "codemirror_mode": {
    "name": "ipython",
    "version": 3
   },
   "file_extension": ".py",
   "mimetype": "text/x-python",
   "name": "python",
   "nbconvert_exporter": "python",
   "pygments_lexer": "ipython3",
   "version": "3.12.1"
  }
 },
 "nbformat": 4,
 "nbformat_minor": 5
}
